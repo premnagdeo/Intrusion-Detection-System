{
  "nbformat": 4,
  "nbformat_minor": 0,
  "metadata": {
    "colab": {
      "name": "Intrusion-Detection-System.ipynb",
      "provenance": [],
      "toc_visible": true
    },
    "kernelspec": {
      "name": "python3",
      "display_name": "Python 3"
    },
    "accelerator": "GPU"
  },
  "cells": [
    {
      "cell_type": "markdown",
      "metadata": {
        "id": "fnax4mCZMy0T"
      },
      "source": [
        "## Fetch Dataset"
      ]
    },
    {
      "cell_type": "code",
      "metadata": {
        "id": "vxDLzFS-MtRO",
        "outputId": "0889e891-463f-4319-a67b-edff42b0f66f",
        "colab": {
          "base_uri": "https://localhost:8080/",
          "height": 136
        }
      },
      "source": [
        "! git clone https://github.com/premnagdeo/Intrusion-Detection-System.git\n",
        "% cd Intrusion-Detection-System"
      ],
      "execution_count": 1,
      "outputs": [
        {
          "output_type": "stream",
          "text": [
            "Cloning into 'Intrusion-Detection-System'...\n",
            "remote: Enumerating objects: 21, done.\u001b[K\n",
            "remote: Counting objects: 100% (21/21), done.\u001b[K\n",
            "remote: Compressing objects: 100% (17/17), done.\u001b[K\n",
            "remote: Total 21 (delta 5), reused 13 (delta 3), pack-reused 0\u001b[K\n",
            "Unpacking objects: 100% (21/21), done.\n",
            "/content/Intrusion-Detection-System\n"
          ],
          "name": "stdout"
        }
      ]
    },
    {
      "cell_type": "markdown",
      "metadata": {
        "id": "rxsXAyiZnM8n"
      },
      "source": [
        "## Import Libraries"
      ]
    },
    {
      "cell_type": "code",
      "metadata": {
        "id": "JkKz7AH7m-6J"
      },
      "source": [
        "from sklearn.feature_extraction.text import TfidfVectorizer\n",
        "import os\n",
        "import urllib.parse\n",
        "from sklearn.model_selection import train_test_split\n",
        "from sklearn.linear_model import LogisticRegression\n",
        "from sklearn import metrics\n",
        "\n",
        "import matplotlib.pyplot as plt\n",
        "import random"
      ],
      "execution_count": 2,
      "outputs": []
    },
    {
      "cell_type": "markdown",
      "metadata": {
        "id": "tUAx-nEr0Iyj"
      },
      "source": [
        "## Load the datasets"
      ]
    },
    {
      "cell_type": "code",
      "metadata": {
        "id": "sSCPLe59nR6z"
      },
      "source": [
        "def loadFile(name):\n",
        "    directory = str(os.getcwd())\n",
        "    filepath = os.path.join(directory, name)\n",
        "    with open(filepath,'r') as f:\n",
        "        data = f.readlines()\n",
        "    data = list(set(data))\n",
        "    result = []\n",
        "    for d in data:\n",
        "        d = str(urllib.parse.unquote(d))   #converting url encoded data to simple string\n",
        "        result.append(d)\n",
        "    return result"
      ],
      "execution_count": 3,
      "outputs": []
    },
    {
      "cell_type": "code",
      "metadata": {
        "id": "07G8LL53neH6"
      },
      "source": [
        "maliciousQueries = loadFile('maliciousqueries.txt')\n",
        "validQueries = loadFile('validqueries.txt')"
      ],
      "execution_count": 4,
      "outputs": []
    },
    {
      "cell_type": "markdown",
      "metadata": {
        "id": "14JDZT3E0N2l"
      },
      "source": [
        "### Print Random Valid and Malicious Queries"
      ]
    },
    {
      "cell_type": "code",
      "metadata": {
        "id": "PIBV-MzjnjOV",
        "outputId": "b24a4dfc-db28-4fda-d4ed-f92f248475a0",
        "colab": {
          "base_uri": "https://localhost:8080/",
          "height": 34
        }
      },
      "source": [
        "print(random.choices(validQueries, k=5))"
      ],
      "execution_count": 5,
      "outputs": [
        {
          "output_type": "stream",
          "text": [
            "['/unreal tournament ost/\\n', '/q59884851\\n', '/blubutn/\\n', '/v14962103/\\n', '/javascript/hyper.zip\\n']\n"
          ],
          "name": "stdout"
        }
      ]
    },
    {
      "cell_type": "code",
      "metadata": {
        "id": "Zz5CUnlMngdS",
        "outputId": "9e1c1b4d-08f4-4f58-bb46-6b65ce82f9b9",
        "colab": {
          "base_uri": "https://localhost:8080/",
          "height": 54
        }
      },
      "source": [
        "print(random.choices(maliciousQueries, k=5))"
      ],
      "execution_count": 6,
      "outputs": [
        {
          "output_type": "stream",
          "text": [
            "[\"alert('foo');\\n\", '/recordings/ftp/ftp.pl?dir=../../../../../../etc\\n', '<meta http-equiv=set-cookie content=\"testtfvh=2141\">\\n', '/scripts/upload.cgi\\n', '//document.writeln(unescape(\"<script src=\\'http://www.example.com/test?rnd=q56134844\\'><\"+string.fromcharcode(0x2f)+\"script>\"))\\n']\n"
          ],
          "name": "stdout"
        }
      ]
    },
    {
      "cell_type": "markdown",
      "metadata": {
        "id": "7pWgBsOU1QIA"
      },
      "source": [
        "## Data Preprocessing"
      ]
    },
    {
      "cell_type": "code",
      "metadata": {
        "id": "NGLcmm13nrVp"
      },
      "source": [
        "maliciousQueries = list(set(maliciousQueries))\n",
        "validQueries = list(set(validQueries))\n",
        "allQueries = maliciousQueries + validQueries"
      ],
      "execution_count": 7,
      "outputs": []
    },
    {
      "cell_type": "markdown",
      "metadata": {
        "id": "0fkZJ8Mv1VSc"
      },
      "source": [
        "### set ylabels as 1 for malicious and 0 for valid"
      ]
    },
    {
      "cell_type": "code",
      "metadata": {
        "id": "EFdqGViWnuYd"
      },
      "source": [
        "yMalicious = [1 for i in range(0, len(maliciousQueries))]\n",
        "yValid = [0 for i in range(0, len(validQueries))]"
      ],
      "execution_count": 8,
      "outputs": []
    },
    {
      "cell_type": "code",
      "metadata": {
        "id": "5iB5669DnxJr",
        "outputId": "ec1c0ed1-6b2e-4374-c9f0-233f2f435525",
        "colab": {
          "base_uri": "https://localhost:8080/",
          "height": 54
        }
      },
      "source": [
        "y = yMalicious + yValid\n",
        "queries = allQueries\n",
        "print(queries[:10])"
      ],
      "execution_count": 9,
      "outputs": [
        {
          "output_type": "stream",
          "text": [
            "[\"<IMG SRC='vbscript:msgbox(document.location)'>\\n\", '\"|echo XLPJUH$((63+35))$(echo XLPJUH)XLPJUH//\\n', '/scripts/index.php?setlang=gcards_dir_transversal.nasl&lang[gcards_dir_transversal.nasl][file]=../../../../../../../../../../../../etc/passwd\\n', ' or 0=0 --\\n', '\"&&echo$IFSWJRXOQ$((50+45))$(echo$IFSWJRXOQ)WJRXOQ//\\n', '/m2fpztty.kspx?<script>cross_site_scripting.nasl</script>\\n', '/examples/jsp/num/bb_func_txt.php?pathtofiles=/etc/passwd\\\\x00\\n', '/9kr0ih0v.do?<meta http-equiv=set-cookie content=\"testzgnm=1183\">\\n', '/giftsubscriptionzip/\\n', '/o6ebbirj.dll?<img src=\"javascript:alert(cross_site_scripting.nasl);\">\\n']\n"
          ],
          "name": "stdout"
        }
      ]
    },
    {
      "cell_type": "markdown",
      "metadata": {
        "id": "2ewzI9Xe1cay"
      },
      "source": [
        "### Vectorization"
      ]
    },
    {
      "cell_type": "code",
      "metadata": {
        "id": "73eMbnQvnzEg"
      },
      "source": [
        "vectorizer = TfidfVectorizer(min_df = 0.0, analyzer=\"char\", sublinear_tf=True, ngram_range=(1,3))\n",
        "X = vectorizer.fit_transform(queries)"
      ],
      "execution_count": 10,
      "outputs": []
    },
    {
      "cell_type": "markdown",
      "metadata": {
        "id": "KTZw_WX31fE8"
      },
      "source": [
        "### Split Data into Train and Test Set"
      ]
    },
    {
      "cell_type": "markdown",
      "metadata": {
        "id": "xj9tx0197DJM"
      },
      "source": [
        "###### Train:Test Split: 80:20"
      ]
    },
    {
      "cell_type": "code",
      "metadata": {
        "id": "Cqcypigqn6ZH"
      },
      "source": [
        "X_train, X_test, y_train, y_test = train_test_split(X, y, test_size=0.2)"
      ],
      "execution_count": 11,
      "outputs": []
    },
    {
      "cell_type": "code",
      "metadata": {
        "id": "JNJjL6vYtP3z",
        "outputId": "b205d7c7-a008-46e7-bdde-00db06a99049",
        "colab": {
          "base_uri": "https://localhost:8080/",
          "height": 51
        }
      },
      "source": [
        "print(\"Number of samples in Training Set =\", X_train.shape[0])\n",
        "print(\"Number of samples in Test Set =\", X_test.shape[0])"
      ],
      "execution_count": 12,
      "outputs": [
        {
          "output_type": "stream",
          "text": [
            "Number of samples in Training Set = 1048404\n",
            "Number of samples in Test Set = 262102\n"
          ],
          "name": "stdout"
        }
      ]
    },
    {
      "cell_type": "code",
      "metadata": {
        "id": "kYO1a5_Vn_q3"
      },
      "source": [
        "maliciousCount = len(maliciousQueries)\n",
        "validCount = len(validQueries)"
      ],
      "execution_count": 13,
      "outputs": []
    },
    {
      "cell_type": "code",
      "metadata": {
        "id": "8WapIX1voDOh",
        "outputId": "7a55e905-763e-4a9c-b616-fb58ee4d0d17",
        "colab": {
          "base_uri": "https://localhost:8080/",
          "height": 51
        }
      },
      "source": [
        "print(\"Total Number of valid queries =\", validCount)\n",
        "print(\"Total Number of malicious queries =\", maliciousCount)"
      ],
      "execution_count": 14,
      "outputs": [
        {
          "output_type": "stream",
          "text": [
            "Total Number of valid queries = 1265974\n",
            "Total Number of malicious queries = 44532\n"
          ],
          "name": "stdout"
        }
      ]
    },
    {
      "cell_type": "code",
      "metadata": {
        "id": "fHveMdD_lD6G",
        "outputId": "9b3f5293-18a2-42a4-c19b-8a2d2efc69de",
        "colab": {
          "base_uri": "https://localhost:8080/",
          "height": 34
        }
      },
      "source": [
        "print(sum(y_test))"
      ],
      "execution_count": 15,
      "outputs": [
        {
          "output_type": "stream",
          "text": [
            "8847\n"
          ],
          "name": "stdout"
        }
      ]
    },
    {
      "cell_type": "markdown",
      "metadata": {
        "id": "MpyJ2gOk1o4t"
      },
      "source": [
        "### Logistic Regression"
      ]
    },
    {
      "cell_type": "code",
      "metadata": {
        "id": "GJSnviSpoEON"
      },
      "source": [
        "regressor = LogisticRegression(class_weight={1: 2 * validCount / maliciousCount, 0: 1.0}, max_iter=1000)"
      ],
      "execution_count": 16,
      "outputs": []
    },
    {
      "cell_type": "markdown",
      "metadata": {
        "id": "QEQrDYrR1vnz"
      },
      "source": [
        "### Train the model"
      ]
    },
    {
      "cell_type": "code",
      "metadata": {
        "id": "PLXrrMH8oHow",
        "outputId": "6f7c5d12-02ee-43d2-b9ea-e3b15d22df1c",
        "colab": {
          "base_uri": "https://localhost:8080/",
          "height": 102
        }
      },
      "source": [
        "regressor.fit(X_train, y_train)"
      ],
      "execution_count": 17,
      "outputs": [
        {
          "output_type": "execute_result",
          "data": {
            "text/plain": [
              "LogisticRegression(C=1.0, class_weight={0: 1.0, 1: 56.856822060540736},\n",
              "                   dual=False, fit_intercept=True, intercept_scaling=1,\n",
              "                   l1_ratio=None, max_iter=1000, multi_class='auto',\n",
              "                   n_jobs=None, penalty='l2', random_state=None, solver='lbfgs',\n",
              "                   tol=0.0001, verbose=0, warm_start=False)"
            ]
          },
          "metadata": {
            "tags": []
          },
          "execution_count": 17
        }
      ]
    },
    {
      "cell_type": "markdown",
      "metadata": {
        "id": "KsOM3lPDoLX9"
      },
      "source": [
        "## Evaluation"
      ]
    },
    {
      "cell_type": "code",
      "metadata": {
        "id": "xWNLjiLdoJmt"
      },
      "source": [
        "y_pred = regressor.predict(X_test)"
      ],
      "execution_count": 18,
      "outputs": []
    },
    {
      "cell_type": "code",
      "metadata": {
        "id": "HT5leff3p1e1"
      },
      "source": [
        "fpr, tpr, _ = metrics.roc_curve(y_test, (regressor.predict_proba(X_test)[:, 1]))\n",
        "auc = metrics.auc(fpr, tpr)"
      ],
      "execution_count": 19,
      "outputs": []
    },
    {
      "cell_type": "code",
      "metadata": {
        "id": "832L_xkkp4r_",
        "outputId": "55189d86-c281-41cb-af93-6b159cc733cd",
        "colab": {
          "base_uri": "https://localhost:8080/",
          "height": 170
        }
      },
      "source": [
        "print(\"Malicious samples: %d\" % maliciousCount)\n",
        "print(\"Valid samples: %d\" % validCount)\n",
        "print(\"Baseline Constant negative: %.6f\" % (validCount / (validCount + maliciousCount)))\n",
        "print(\"------------\")\n",
        "print(\"Accuracy: %f\" % regressor.score(X_test, y_test))  #checking the accuracy\n",
        "print(\"Precision: %f\" % metrics.precision_score(y_test, y_pred))\n",
        "print(\"Recall: %f\" % metrics.recall_score(y_test, y_pred))\n",
        "print(\"F1-Score: %f\" % metrics.f1_score(y_test, y_pred))\n",
        "print(\"AUC: %f\" % auc)\n"
      ],
      "execution_count": 20,
      "outputs": [
        {
          "output_type": "stream",
          "text": [
            "Malicious samples: 44532\n",
            "Valid samples: 1265974\n",
            "Baseline Constant negative: 0.966019\n",
            "------------\n",
            "Accuracy: 0.999424\n",
            "Precision: 0.984619\n",
            "Recall: 0.998531\n",
            "F1-Score: 0.991526\n",
            "AUC: 0.999868\n"
          ],
          "name": "stdout"
        }
      ]
    },
    {
      "cell_type": "code",
      "metadata": {
        "id": "uISjSw9_qz5o",
        "outputId": "9e709899-27a1-4b35-f2a1-67c2935c634b",
        "colab": {
          "base_uri": "https://localhost:8080/",
          "height": 170
        }
      },
      "source": [
        "print(metrics.classification_report(y_test, y_pred))"
      ],
      "execution_count": 21,
      "outputs": [
        {
          "output_type": "stream",
          "text": [
            "              precision    recall  f1-score   support\n",
            "\n",
            "           0       1.00      1.00      1.00    253255\n",
            "           1       0.98      1.00      0.99      8847\n",
            "\n",
            "    accuracy                           1.00    262102\n",
            "   macro avg       0.99      1.00      1.00    262102\n",
            "weighted avg       1.00      1.00      1.00    262102\n",
            "\n"
          ],
          "name": "stdout"
        }
      ]
    },
    {
      "cell_type": "markdown",
      "metadata": {
        "id": "JIRVK6oUqk1T"
      },
      "source": [
        "## Confusion Matrix"
      ]
    },
    {
      "cell_type": "code",
      "metadata": {
        "id": "X61Ey_Ahp7Ow",
        "outputId": "bed6b1b5-17d8-4d43-bbdb-9d66e9bb47bb",
        "colab": {
          "base_uri": "https://localhost:8080/",
          "height": 51
        }
      },
      "source": [
        "print(metrics.confusion_matrix(y_test, y_pred))"
      ],
      "execution_count": 22,
      "outputs": [
        {
          "output_type": "stream",
          "text": [
            "[[253117    138]\n",
            " [    13   8834]]\n"
          ],
          "name": "stdout"
        }
      ]
    },
    {
      "cell_type": "markdown",
      "metadata": {
        "id": "s0ISz1R72Lpt"
      },
      "source": [
        "### Plot the Confusion Matrix"
      ]
    },
    {
      "cell_type": "code",
      "metadata": {
        "id": "w0M_nUngq7pc",
        "outputId": "e7a2bc60-716e-4900-967d-c0b9efad40c2",
        "colab": {
          "base_uri": "https://localhost:8080/",
          "height": 382
        }
      },
      "source": [
        "plt.style.use('seaborn-notebook')\n",
        "confusion_matrix = metrics.plot_confusion_matrix(regressor, X_test, y_test, values_format='5d')\n",
        "print(\"Model Accuracy: %f\" % regressor.score(X_test, y_test))  \n",
        "plt.show()"
      ],
      "execution_count": 23,
      "outputs": [
        {
          "output_type": "stream",
          "text": [
            "Model Accuracy: 0.999424\n"
          ],
          "name": "stdout"
        },
        {
          "output_type": "display_data",
          "data": {
            "image/png": "[encoded data removed]",
            "text/plain": [
              "<Figure size 576x396 with 2 Axes>"
            ]
          },
          "metadata": {
            "tags": [],
            "needs_background": "light"
          }
        }
      ]
    },
    {
      "cell_type": "markdown",
      "metadata": {
        "id": "DAhCuh-Z4d1p"
      },
      "source": [
        "## Save the model"
      ]
    },
    {
      "cell_type": "code",
      "metadata": {
        "id": "9N9kksGe4dc_"
      },
      "source": [
        "import pickle\n",
        "\n",
        "pickle.dump(regressor, open('model.pkl', 'wb'))\n",
        "pickle.dump(vectorizer, open(\"vectorizer.pkl\", \"wb\"))"
      ],
      "execution_count": 24,
      "outputs": []
    },
    {
      "cell_type": "markdown",
      "metadata": {
        "id": "T6k5Yl6u491D"
      },
      "source": [
        "### Load the model"
      ]
    },
    {
      "cell_type": "code",
      "metadata": {
        "id": "DhbKkVTX4_rq",
        "outputId": "ab615fad-fbec-4792-8d25-c562c635f75f",
        "colab": {
          "base_uri": "https://localhost:8080/",
          "height": 34
        }
      },
      "source": [
        "loaded_model = pickle.load(open('model.pkl', 'rb'))\n",
        "result = loaded_model.score(X_test, y_test)\n",
        "print(result)\n"
      ],
      "execution_count": 25,
      "outputs": [
        {
          "output_type": "stream",
          "text": [
            "0.9994238884098557\n"
          ],
          "name": "stdout"
        }
      ]
    },
    {
      "cell_type": "markdown",
      "metadata": {
        "id": "7OC6YvTP-LG3"
      },
      "source": [
        "### Test the model against user data"
      ]
    },
    {
      "cell_type": "code",
      "metadata": {
        "id": "Y2k7aWe9Didx"
      },
      "source": [
        "model = pickle.load(open('model.pkl','rb'))\n",
        "vectorizer = pickle.load(open('vectorizer.pkl', 'rb'))"
      ],
      "execution_count": 26,
      "outputs": []
    },
    {
      "cell_type": "markdown",
      "metadata": {
        "id": "bgKKE09w-ZYK"
      },
      "source": [
        "#### Malicious query test"
      ]
    },
    {
      "cell_type": "code",
      "metadata": {
        "id": "Ym0psjuE-Po7",
        "outputId": "8bbee313-77df-4957-997d-11c8d393c0c3",
        "colab": {
          "base_uri": "https://localhost:8080/",
          "height": 34
        }
      },
      "source": [
        "query_list = [\"<SCRIPT/XSS SRC=\\\"http://ha.ckers.org/xss.js\\\"></SCRIPT>\", \"/javascript/mta.exe\"]\n",
        "querys = vectorizer.transform(query_list)\n",
        "results = model.predict(querys)\n",
        "print(results)"
      ],
      "execution_count": 27,
      "outputs": [
        {
          "output_type": "stream",
          "text": [
            "[1 1]\n"
          ],
          "name": "stdout"
        }
      ]
    },
    {
      "cell_type": "markdown",
      "metadata": {
        "id": "C6zNPiDd-bYb"
      },
      "source": [
        "#### Valid query test"
      ]
    },
    {
      "cell_type": "code",
      "metadata": {
        "id": "-hZiDUVB_xm2",
        "outputId": "d3a759f8-0498-4f41-92fd-b7db6af12398",
        "colab": {
          "base_uri": "https://localhost:8080/",
          "height": 34
        }
      },
      "source": [
        "query_list = [\"/main/learn-python/\", \"/index.html\"]\n",
        "querys = vectorizer.transform(query_list)\n",
        "results = model.predict(querys)\n",
        "print(results)"
      ],
      "execution_count": 28,
      "outputs": [
        {
          "output_type": "stream",
          "text": [
            "[0 0]\n"
          ],
          "name": "stdout"
        }
      ]
    },
    {
      "cell_type": "code",
      "metadata": {
        "id": "E7e_B3vNLr6Z"
      },
      "source": [
        ""
      ],
      "execution_count": 28,
      "outputs": []
    }
  ]
}